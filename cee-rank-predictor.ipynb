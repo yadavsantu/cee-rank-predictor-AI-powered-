{
 "cells": [
  {
   "cell_type": "code",
   "execution_count": 2,
   "id": "be2c2cad-e379-41f6-8501-8e0b02fc8f78",
   "metadata": {},
   "outputs": [
    {
     "name": "stdout",
     "output_type": "stream",
     "text": [
      "Model saved as rank_predictor_model.pkl\n"
     ]
    }
   ],
   "source": [
    "import pandas as pd\n",
    "import numpy as np\n",
    "from sklearn.model_selection import train_test_split\n",
    "from sklearn.pipeline import Pipeline\n",
    "from sklearn.preprocessing import StandardScaler\n",
    "from sklearn.ensemble import RandomForestRegressor\n",
    "import joblib  # For saving model\n",
    "\n",
    "# Load and preprocess\n",
    "df = pd.read_csv('mecee_2021_MBBS_only.csv')\n",
    "df['Score'] = pd.to_numeric(df['Score'], errors='coerce')\n",
    "df.dropna(subset=['Score'], inplace=True)\n",
    "\n",
    "# Only keep 'Score' for prediction\n",
    "X = df[['Score']]\n",
    "y = df['Rank']\n",
    "\n",
    "# Train/test split\n",
    "X_train, X_test, y_train, y_test = train_test_split(X, y, test_size=0.2, random_state=42)\n",
    "\n",
    "# Pipeline\n",
    "model_pipeline = Pipeline([\n",
    "    ('scaler', StandardScaler()),\n",
    "    ('model', RandomForestRegressor(n_estimators=200, random_state=42))\n",
    "])\n",
    "\n",
    "# Train and save model\n",
    "model_pipeline.fit(X_train, y_train)\n",
    "joblib.dump(model_pipeline, 'rank_predictor_model.pkl')\n",
    "\n",
    "print(\"Model saved as rank_predictor_model.pkl\")"
   ]
  },
  {
   "cell_type": "code",
   "execution_count": null,
   "id": "b07989b1-7e3b-4b74-8235-5dd777c8ceac",
   "metadata": {},
   "outputs": [],
   "source": []
  }
 ],
 "metadata": {
  "kernelspec": {
   "display_name": "Python 3 (ipykernel)",
   "language": "python",
   "name": "python3"
  },
  "language_info": {
   "codemirror_mode": {
    "name": "ipython",
    "version": 3
   },
   "file_extension": ".py",
   "mimetype": "text/x-python",
   "name": "python",
   "nbconvert_exporter": "python",
   "pygments_lexer": "ipython3",
   "version": "3.11.9"
  }
 },
 "nbformat": 4,
 "nbformat_minor": 5
}
